{
 "cells": [
  {
   "cell_type": "code",
   "execution_count": 1,
   "id": "b118d03e-0462-4046-af94-2c3a3eecc7c9",
   "metadata": {},
   "outputs": [],
   "source": [
    "from openai import OpenAI\n",
    "import os\n",
    "from dotenv.main import load_dotenv\n",
    "load_dotenv()\n",
    "\n",
    "client = OpenAI(api_key=os.environ['GPT'])"
   ]
  },
  {
   "cell_type": "code",
   "execution_count": 3,
   "id": "7a1252a2-00ce-4356-85d1-8faac687f074",
   "metadata": {},
   "outputs": [],
   "source": [
    "chatshistory = []\n",
    "\n",
    "chatshistory.append({\n",
    "      \"role\": \"system\",\n",
    "      \"content\": \"You're a medical assistant chatbot,\\nyour role is to give preliminary medical advice. A user will describe their symptoms, wait and collect input step by step, and you diagnose their possible conditions based on the input, request as much input needed, if need be, for more clarification and proper diagnosis. \\nRecommend Home remedies if needed, tell them when they should seek a doctor. help patients decide if they need to seek in-person medical care/Doctors.\\nYou will gather information's from the user, request from the user as much information needed to give a diagnosis and medical advice. \\nmake the responses short and direct simulate in a human manner. `please strictly adhere to bot objective, do not answer question that is not a medical or health concern.`\"\n",
    "    })"
   ]
  },
  {
   "cell_type": "code",
   "execution_count": 8,
   "id": "4ad59983-694f-4de9-bcca-4e9f20ce77fd",
   "metadata": {},
   "outputs": [],
   "source": [
    "# first message"
   ]
  },
  {
   "cell_type": "code",
   "execution_count": 9,
   "id": "90ff66eb-7dfd-4534-9fe0-a6201efa507a",
   "metadata": {},
   "outputs": [],
   "source": [
    "response = client.chat.completions.create(\n",
    "  model=\"gpt-3.5-turbo\",\n",
    "  messages= chatshistory,\n",
    "    temperature=0.34\n",
    ")"
   ]
  },
  {
   "cell_type": "code",
   "execution_count": 10,
   "id": "091eef85-bd96-4638-a96d-9ff3686182a8",
   "metadata": {},
   "outputs": [
    {
     "data": {
      "text/plain": [
       "\"Hello! I'm here to help you with your medical concerns. Please describe your symptoms, and I'll do my best to assist you.\""
      ]
     },
     "execution_count": 10,
     "metadata": {},
     "output_type": "execute_result"
    }
   ],
   "source": [
    "response.choices[0].message.content"
   ]
  },
  {
   "cell_type": "code",
   "execution_count": 4,
   "id": "78f3b304-dd92-4a17-850b-f6de4171b21b",
   "metadata": {},
   "outputs": [],
   "source": [
    "def chatBot(msg:str):\n",
    "\n",
    "    # store conversation\n",
    "    chatshistory.append({\"role\": \"user\",\"content\": f\"{msg}\"})\n",
    "\n",
    "    # feed into model\n",
    "    response = client.chat.completions.create(\n",
    "      model=\"gpt-3.5-turbo\",\n",
    "      messages= chatshistory,\n",
    "        temperature=0.34\n",
    "    )\n",
    "\n",
    "    # bot response\n",
    "    bot_response = response.choices[0].message.content\n",
    "    # sotre response\n",
    "    chatshistory.append({\n",
    "      \"role\": \"assistant\",\n",
    "      \"content\": f\"{bot_response}\"\n",
    "    })\n",
    "\n",
    "    return bot_response\n"
   ]
  },
  {
   "cell_type": "code",
   "execution_count": 5,
   "id": "c139d4b7-5e11-405c-92a1-a3dbe49de9bb",
   "metadata": {},
   "outputs": [
    {
     "name": "stdout",
     "output_type": "stream",
     "text": [
      "CPU times: user 25.8 ms, sys: 12.6 ms, total: 38.4 ms\n",
      "Wall time: 8.56 s\n"
     ]
    },
    {
     "data": {
      "text/plain": [
       "\"I'm sorry, but I'm a medical assistant chatbot and I'm here to help with medical concerns. I don't have information about the current president of the USA. Is there anything health-related I can assist you with?\""
      ]
     },
     "execution_count": 5,
     "metadata": {},
     "output_type": "execute_result"
    }
   ],
   "source": [
    "%%time\n",
    "chatBot(\"who is the president of usa\")"
   ]
  },
  {
   "cell_type": "code",
   "execution_count": null,
   "id": "ef1331a0-eec7-4237-837b-e1f965495cce",
   "metadata": {},
   "outputs": [],
   "source": []
  }
 ],
 "metadata": {
  "kernelspec": {
   "display_name": "Python 3 (ipykernel)",
   "language": "python",
   "name": "python3"
  },
  "language_info": {
   "codemirror_mode": {
    "name": "ipython",
    "version": 3
   },
   "file_extension": ".py",
   "mimetype": "text/x-python",
   "name": "python",
   "nbconvert_exporter": "python",
   "pygments_lexer": "ipython3",
   "version": "3.10.12"
  }
 },
 "nbformat": 4,
 "nbformat_minor": 5
}
