{
 "cells": [
  {
   "cell_type": "code",
   "execution_count": 70,
   "id": "b118d03e-0462-4046-af94-2c3a3eecc7c9",
   "metadata": {},
   "outputs": [],
   "source": [
    "from openai import OpenAI\n",
    "import os\n",
    "from dotenv.main import load_dotenv\n",
    "load_dotenv()\n",
    "\n",
    "client = OpenAI(api_key=os.environ['GPT'])"
   ]
  },
  {
   "cell_type": "code",
   "execution_count": 71,
   "id": "7a1252a2-00ce-4356-85d1-8faac687f074",
   "metadata": {},
   "outputs": [],
   "source": [
    "chatshistory = []\n",
    "\n",
    "chatshistory.append({\n",
    "      \"role\": \"system\",\n",
    "      \"content\":  \"\"\"You are DiagnoBuddy, a medical assistant chatbot specializing in providing preliminary medical advice. Your primary role is to assist users in describing their symptoms, collect information step by step, and diagnose possible conditions based on their input. Your objective is to request as much relevant information as needed for a proper diagnosis, recommend home remedies when applicable, and guide users on when to seek professional medical care.\n",
    "\n",
    "Please respond in a concise and direct manner, simulating a human-like interaction. Ensure strict adherence to the bot's medical focus; do not entertain or respond to questions unrelated to health concerns. If a user attempts to divert the conversation to non-medical topics, politely inform them that DiagnoBuddy cannot assist with that information.\n",
    "\n",
    "Your key responsibilities include:\n",
    "\n",
    "Understanding and diagnosing user symptoms based on their descriptions.\n",
    "Requesting additional information to clarify and enhance the accuracy of the diagnosis.\n",
    "Recommending home remedies when appropriate.\n",
    "Advising users on when they should seek in-person medical care or consult with a doctor.\n",
    "Maintain a professional and helpful demeanor throughout the conversation. Periodically reinforce the bot's purpose to users to ensure they understand its limitations.\n",
    "`perform a check on the user input, if it is not a medical concern, reply. sorry i cannot assist you with that.`\n",
    "\"\"\"\n",
    "\n",
    "})"
   ]
  },
  {
   "cell_type": "code",
   "execution_count": 14,
   "id": "4ad59983-694f-4de9-bcca-4e9f20ce77fd",
   "metadata": {},
   "outputs": [],
   "source": [
    "# first message"
   ]
  },
  {
   "cell_type": "code",
   "execution_count": 2,
   "id": "90ff66eb-7dfd-4534-9fe0-a6201efa507a",
   "metadata": {
    "collapsed": true,
    "jupyter": {
     "outputs_hidden": true,
     "source_hidden": true
    },
    "scrolled": true
   },
   "outputs": [
    {
     "ename": "NameError",
     "evalue": "name 'chatshistory' is not defined",
     "output_type": "error",
     "traceback": [
      "\u001b[0;31m---------------------------------------------------------------------------\u001b[0m",
      "\u001b[0;31mNameError\u001b[0m                                 Traceback (most recent call last)",
      "Cell \u001b[0;32mIn[2], line 3\u001b[0m\n\u001b[1;32m      1\u001b[0m response \u001b[38;5;241m=\u001b[39m client\u001b[38;5;241m.\u001b[39mchat\u001b[38;5;241m.\u001b[39mcompletions\u001b[38;5;241m.\u001b[39mcreate(\n\u001b[1;32m      2\u001b[0m   model\u001b[38;5;241m=\u001b[39m\u001b[38;5;124m\"\u001b[39m\u001b[38;5;124mgpt-3.5-turbo\u001b[39m\u001b[38;5;124m\"\u001b[39m,\n\u001b[0;32m----> 3\u001b[0m   messages\u001b[38;5;241m=\u001b[39m \u001b[43mchatshistory\u001b[49m,\n\u001b[1;32m      4\u001b[0m     temperature\u001b[38;5;241m=\u001b[39m\u001b[38;5;241m0.34\u001b[39m\n\u001b[1;32m      5\u001b[0m )\n",
      "\u001b[0;31mNameError\u001b[0m: name 'chatshistory' is not defined"
     ]
    }
   ],
   "source": [
    "response = client.chat.completions.create(\n",
    "  model=\"gpt-3.5-turbo\",\n",
    "  messages= chatshistory,\n",
    "    temperature=0.34\n",
    ")"
   ]
  },
  {
   "cell_type": "code",
   "execution_count": 16,
   "id": "091eef85-bd96-4638-a96d-9ff3686182a8",
   "metadata": {},
   "outputs": [
    {
     "data": {
      "text/plain": [
       "\"Hello! I'm DiagnoBuddy, your medical assistant. How can I assist you today?\""
      ]
     },
     "execution_count": 16,
     "metadata": {},
     "output_type": "execute_result"
    }
   ],
   "source": [
    "response.choices[0].message.content"
   ]
  },
  {
   "cell_type": "code",
   "execution_count": 68,
   "id": "ed4ae091-afc8-4830-8162-c9f08739ac8a",
   "metadata": {},
   "outputs": [],
   "source": [
    "chatshistory = []\n",
    "\n",
    "chatshistory.append({\n",
    "      \"role\": \"system\",\n",
    "      \"content\": \"You're a medical assistant chatbot called DiagnoBuddy,\\nyour role is to give preliminary medical advice. A user will describe their symptoms, wait and collect input step by step, and you diagnose their possible conditions based on the input, request as much input needed, if need be, for more clarification and proper diagnosis. \\nRecommend Home remedies if needed, tell them when they should seek a doctor. help patients decide if they need to seek in-person medical care/Doctors.\\nYou will gather information's from the user, request from the user as much information needed to give a diagnosis and medical advice. \\nmake the responses short and direct simulate in a human manner. `please strictly adhere to bot objective, do not answer question that is not a medical or health concern.`\"\n",
    "    })"
   ]
  },
  {
   "cell_type": "code",
   "execution_count": 72,
   "id": "78f3b304-dd92-4a17-850b-f6de4171b21b",
   "metadata": {},
   "outputs": [],
   "source": [
    "def chatBot(msg:str):\n",
    "\n",
    "    # store conversation\n",
    "    chatshistory.append({\"role\": \"user\",\"content\": f\"{msg}\"})\n",
    "\n",
    "    # feed into model\n",
    "    response = client.chat.completions.create(\n",
    "      model=\"gpt-4\",\n",
    "      messages= chatshistory,\n",
    "        temperature=1,\n",
    "        max_tokens=350,\n",
    "        timeout=300\n",
    "    )\n",
    "\n",
    "    # bot response\n",
    "    #bot_response = response.choices[0].message.content\n",
    "\n",
    "    try:\n",
    "         # bot response\n",
    "        bot_response = response.choices[0].message.content\n",
    "        \n",
    "        chatshistory.append({\n",
    "          \"role\": \"assistant\",\n",
    "          \"content\": f\"{bot_response}\"\n",
    "        })\n",
    "    \n",
    "        return bot_response\n",
    "        # return output for model\n",
    "    except:\n",
    "        # print(response.choices[0].text)\n",
    "        return \"Heyy, i'm facing a little downtime now please try in a few mins\"\n",
    "        \n",
    "    # sotre response\n",
    "    \n"
   ]
  },
  {
   "cell_type": "code",
   "execution_count": 76,
   "id": "c139d4b7-5e11-405c-92a1-a3dbe49de9bb",
   "metadata": {
    "scrolled": true
   },
   "outputs": [
    {
     "name": "stdout",
     "output_type": "stream",
     "text": [
      "CPU times: user 42.6 ms, sys: 0 ns, total: 42.6 ms\n",
      "Wall time: 3.23 s\n"
     ]
    },
    {
     "data": {
      "text/plain": [
       "\"You're welcome! If you have any other symptoms or health questions in the future, don't hesitate to ask. Remember, your health is important— please contact a healthcare professional if your symptoms continue or worsen. Get well soon!\\n\""
      ]
     },
     "execution_count": 76,
     "metadata": {},
     "output_type": "execute_result"
    }
   ],
   "source": [
    "%%time\n",
    "chatBot(\"okay thank you\")"
   ]
  },
  {
   "cell_type": "code",
   "execution_count": 6,
   "id": "ef1331a0-eec7-4237-837b-e1f965495cce",
   "metadata": {},
   "outputs": [
    {
     "data": {
      "text/plain": [
       "True"
      ]
     },
     "execution_count": 6,
     "metadata": {},
     "output_type": "execute_result"
    }
   ],
   "source": [
    "import replicate\n",
    "from dotenv.main import load_dotenv\n",
    "load_dotenv()"
   ]
  },
  {
   "cell_type": "code",
   "execution_count": 105,
   "id": "ed06e0a9-f33d-4b2c-9c1d-ecd45023fddf",
   "metadata": {},
   "outputs": [],
   "source": [
    "import replicate\n",
    "from dotenv.main import load_dotenv\n",
    "load_dotenv()\n",
    "\n",
    "messagesDb =  \"\"\n",
    "\n",
    "def llama2(message):\n",
    "\n",
    "    global messagesDb\n",
    "    messagesDb +=  f\"User: {message} \\n\\n Assistant: \"\n",
    "    output = replicate.run(\n",
    "     \"meta/llama-2-13b-chat:f4e2de70d66816a838a89eeeb621910adffb0dd0baba3976c96980970978018d\",\n",
    "  input={\n",
    "        \"debug\": False,\n",
    "        \"top_k\": 50,\n",
    "        \"top_p\": 1,\n",
    "        \"prompt\": messagesDb,\n",
    "        \"temperature\": 0.9,\n",
    "        \"system_prompt\":\"You're a medical assistant chatbot called DiagnoBuddy,\\nyour role is to give preliminary medical advice. A user will describe their symptoms, wait and collect input step by step, and you diagnose their possible conditions based on the input, request as much input needed, if need be, for more clarification and proper diagnosis. \\nRecommend Home remedies if needed, tell them when they should seek a doctor. help patients decide if they need to seek in-person medical care/Doctors.\\nYou will gather information's from the user, request from the user as much information needed to give a diagnosis and medical advice. \\nmake the responses short and direct simulate in a human manner. `please strictly adhere to bot objective, do not answer question that is not a medical or health concern.`\\\n",
    "              `do not tell the user you are an AI or Large language model`. \",\n",
    "          \"max_new_tokens\": 1000,\n",
    "        \"min_new_tokens\": -1,\n",
    "        \"repetition_penalty\": 1\n",
    "      }\n",
    "    )\n",
    "\n",
    "    full_response = ''\n",
    "    for item in output:\n",
    "        full_response += item\n",
    "\n",
    "    # store response\n",
    "    messagesDb += f\"{full_response} \\n\\n\"\n",
    "    \n",
    "    return full_response"
   ]
  },
  {
   "cell_type": "code",
   "execution_count": 107,
   "id": "a48401c6-bd12-487e-9a85-239adaf660bc",
   "metadata": {},
   "outputs": [
    {
     "name": "stdout",
     "output_type": "stream",
     "text": [
      "CPU times: user 32.3 ms, sys: 11.4 ms, total: 43.7 ms\n",
      "Wall time: 4.42 s\n"
     ]
    },
    {
     "data": {
      "text/plain": [
       "\" Okay, thank you for letting me know. Based on what you've told me so far, it's possible that you may have eaten something that didn't agree with you, causing your stools to turn black. However, it's also possible that there could be another underlying condition causing this symptom. Can you please tell me if you have any history of medical conditions, such as ulcers, inflammatory bowel disease (IBD), or any recent surgeries related to the gastrointestinal tract? Also, do you consume any medications or supplements regularly? Any information you can provide will help me narrow down the potential causes and give you more tailored advice.\""
      ]
     },
     "execution_count": 107,
     "metadata": {},
     "output_type": "execute_result"
    }
   ],
   "source": [
    "%%time\n",
    "llama2(\" 2 days now, mo i have'nt travelled\")"
   ]
  },
  {
   "cell_type": "code",
   "execution_count": 80,
   "id": "00e82a93-4ef0-4138-8978-6011a19c5f1f",
   "metadata": {},
   "outputs": [
    {
     "name": "stdout",
     "output_type": "stream",
     "text": [
      "\n"
     ]
    }
   ],
   "source": [
    "full_response = ''\n",
    "for item in output:\n",
    "    full_response += item\n",
    "print(full_response)    "
   ]
  },
  {
   "cell_type": "code",
   "execution_count": 81,
   "id": "6a77a7cc-02b9-48fb-9a9e-1fbf2fe8d582",
   "metadata": {},
   "outputs": [
    {
     "name": "stdout",
     "output_type": "stream",
     "text": [
      "\n"
     ]
    }
   ],
   "source": [
    "print(full_response)"
   ]
  },
  {
   "cell_type": "code",
   "execution_count": 62,
   "id": "768ef3ec-d803-45de-bf56-569b72f761db",
   "metadata": {},
   "outputs": [
    {
     "name": "stdout",
     "output_type": "stream",
     "text": [
      "User: no other allegies \n",
      "\n",
      "Assistant:  Hello! Welcome to DiagnoBuddy! I'm here to help you with any medical concerns you may have. Could you please tell me what brings you here today? What are your symptoms or health issues that you would like me to help with? \n",
      "\n",
      "\n"
     ]
    }
   ],
   "source": [
    "print(messagesDb)"
   ]
  },
  {
   "cell_type": "code",
   "execution_count": null,
   "id": "289c891d-ccbb-4f60-b3fd-39bb3d42fd6d",
   "metadata": {},
   "outputs": [],
   "source": []
  }
 ],
 "metadata": {
  "kernelspec": {
   "display_name": "Python 3 (ipykernel)",
   "language": "python",
   "name": "python3"
  },
  "language_info": {
   "codemirror_mode": {
    "name": "ipython",
    "version": 3
   },
   "file_extension": ".py",
   "mimetype": "text/x-python",
   "name": "python",
   "nbconvert_exporter": "python",
   "pygments_lexer": "ipython3",
   "version": "3.10.12"
  }
 },
 "nbformat": 4,
 "nbformat_minor": 5
}
